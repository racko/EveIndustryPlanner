{
 "cells": [
  {
   "cell_type": "code",
   "execution_count": 1,
   "metadata": {},
   "outputs": [],
   "source": [
    "from scipy.optimize import linprog\n",
    "import numpy as np"
   ]
  },
  {
   "cell_type": "code",
   "execution_count": 59,
   "metadata": {},
   "outputs": [
    {
     "name": "stdout",
     "output_type": "stream",
     "text": [
      "scenario_a: [0.5652663  0.46984572]\n",
      "scenario_b: [0.36443691 0.99353977]\n",
      "p: [0.29537932]\n",
      "c: [-0.         -0.         -0.12261929 -0.27037918 -0.41354141 -0.41522923]\n",
      "A:\n",
      "[[ 1.  1.  0.  0.  0.  0.]\n",
      " [ 1.  0. -1.  0.  0.  0.]\n",
      " [ 0.  1.  0. -1.  0.  0.]\n",
      " [ 1.  0.  0.  0. -1.  0.]\n",
      " [ 0.  1.  0.  0.  0. -1.]]\n",
      "b: [1. 0. 0. 0. 0.]\n"
     ]
    },
    {
     "data": {
      "text/plain": [
       "     fun: -0.8388513783665805\n",
       " message: 'Optimization terminated successfully.'\n",
       "     nit: 6\n",
       "   slack: array([], dtype=float64)\n",
       "  status: 0\n",
       " success: True\n",
       "       x: array([0., 1., 0., 1., 0., 1.])"
      ]
     },
     "execution_count": 59,
     "metadata": {},
     "output_type": "execute_result"
    }
   ],
   "source": [
    "value_a = np.random.rand(2)\n",
    "value_b = np.random.rand(2)\n",
    "p = np.random.rand(1)\n",
    "print('scenario_a: {}\\nscenario_b: {}\\np: {}'.format(value_a, value_b, p))\n",
    "\n",
    "value = np.concatenate([[0, 0], p * value_a, (1 - p) * value_b])\n",
    "\n",
    "A = np.array([[1, 1, 0, 0, 0, 0],\n",
    "              [1, 0, -1, 0, 0, 0],\n",
    "              [0, 1, 0, -1, 0, 0],\n",
    "              [1, 0, 0, 0, -1, 0],\n",
    "              [0, 1, 0, 0, 0, -1]], dtype=float)\n",
    "b = np.array([1, 0, 0, 0, 0], dtype=float)\n",
    "\n",
    "print('c: {}\\nA:\\n{}\\nb: {}'.format(c, A, b))\n",
    "\n",
    "cost = -value\n",
    "linprog(c=cost, A_eq=A, b_eq=b)"
   ]
  }
 ],
 "metadata": {
  "kernelspec": {
   "display_name": "Python 3",
   "language": "python",
   "name": "python3"
  },
  "language_info": {
   "codemirror_mode": {
    "name": "ipython",
    "version": 3
   },
   "file_extension": ".py",
   "mimetype": "text/x-python",
   "name": "python",
   "nbconvert_exporter": "python",
   "pygments_lexer": "ipython3",
   "version": "3.7.1"
  }
 },
 "nbformat": 4,
 "nbformat_minor": 2
}
