{
 "cells": [
  {
   "cell_type": "code",
   "execution_count": 1,
   "metadata": {},
   "outputs": [],
   "source": [
    "from scipy.optimize import linprog\n",
    "import numpy as np"
   ]
  },
  {
   "cell_type": "code",
   "execution_count": 2,
   "metadata": {},
   "outputs": [
    {
     "name": "stdout",
     "output_type": "stream",
     "text": [
      "value(action 0 in scenario a): 0.21516681447531516\n",
      "value(action 1 in scenario a): 0.8478616645301282\n",
      "value(action 0 in scenario b): 0.022473685583886627\n",
      "value(action 1 in scenario b): 0.3382141201984563\n",
      "P(scenario a) : [0.87514193]\n",
      "P(scenario b): [0.12485807]\n",
      "c: [0.         0.         0.1883015  0.74199929 0.00280602 0.04222876]\n",
      "A:\n",
      "[[ 1.  1.  0.  0.  0.  0.]\n",
      " [ 1.  0. -1.  0.  0.  0.]\n",
      " [ 0.  1.  0. -1.  0.  0.]\n",
      " [ 1.  0.  0.  0. -1.  0.]\n",
      " [ 0.  1.  0.  0.  0. -1.]]\n",
      "b: [1. 0. 0. 0. 0.]\n"
     ]
    },
    {
     "data": {
      "text/plain": [
       "     con: array([-2.16227036e-12, -2.60529581e-23, -2.22044605e-16, -1.73683695e-23, -2.22044605e-16])\n",
       "     fun: -0.7842280558419344\n",
       " message: 'Optimization terminated successfully.'\n",
       "     nit: 4\n",
       "   slack: array([], dtype=float64)\n",
       "  status: 0\n",
       " success: True\n",
       "       x: array([3.79552235e-12, 1.00000000e+00, 3.79552235e-12, 1.00000000e+00, 3.79552235e-12, 1.00000000e+00])"
      ]
     },
     "execution_count": 2,
     "metadata": {},
     "output_type": "execute_result"
    }
   ],
   "source": [
    "scenario_a = np.random.rand(2)\n",
    "scenario_b = np.random.rand(2)\n",
    "p = np.random.rand(1)\n",
    "\n",
    "# given\n",
    "print('value(action 0 in scenario a): {}'.format(scenario_a[0]))\n",
    "print('value(action 1 in scenario a): {}'.format(scenario_a[1]))\n",
    "print('value(action 0 in scenario b): {}'.format(scenario_b[0]))\n",
    "print('value(action 1 in scenario b): {}'.format(scenario_b[1]))\n",
    "print('P(scenario a) : {}'.format(p))\n",
    "print('P(scenario b): {}'.format(1-p))\n",
    "\n",
    "# wanted:\n",
    "# P(action_0) and P(action_1)\n",
    "#   s.t. p(action_0) + P(action_1) == 1\n",
    "\n",
    "# target function:\n",
    "#   P(action 0) * P(scenario a) * value(action 0 in scenario a)\n",
    "# + P(action 1) * P(scenario a) * value(action 1 in scenario a)\n",
    "# + P(action 0) * P(scenario b) * value(action 0 in scenario b)\n",
    "# + P(action 1) * P(scenario b) * value(action 1 in scenario b)\n",
    "\n",
    "# We use aux. variables to build the opt. problem:\n",
    "# P(action 0 | scenario a)\n",
    "# P(action 1 | scenario a)\n",
    "# P(action 0 | scenario b)\n",
    "# P(action 1 | scenario b)\n",
    "# Later we will constraint them so that\n",
    "# P(action i | scenario x) == P(action i | scenario y) == P(action i)\n",
    "\n",
    "# Now the variables are:\n",
    "# 0: P(action_0)\n",
    "# 1: P(action_1)\n",
    "# 2: P(action 0 | scenario a)\n",
    "# 3: P(action 1 | scenario a)\n",
    "# 4: P(action 0 | scenario b)\n",
    "# 5: P(action 1 | scenario b)\n",
    "\n",
    "# target function with aux. variables:\n",
    "#   P(action 0 | scenario a) * P(scenario a) * value_0a\n",
    "# + P(action 1 | scenario a) * P(scenario a) * value_1a\n",
    "# + P(action 0 | scenario b) * P(scenario b) * value_0b\n",
    "# + P(action 1 | scenario b) * P(scenario b) * value_1b\n",
    "value = np.concatenate([[0, 0], p * scenario_a, (1 - p) * scenario_b])\n",
    "\n",
    "# constraints\n",
    "# 0: P(action 0) + P(action 1) == 1\n",
    "# 1: P(action 0) == P(action 0 | scenario a)\n",
    "# 2: P(action 1) == P(action 1 | scenario a)\n",
    "# 3: P(action 0) == P(action 0 | scenario b)\n",
    "# 4: P(action 1) == P(action 1 | scenario b)\n",
    "\n",
    "# Yes, in this simple example we could just get rid of the aux.\n",
    "# variables, but in the general case we have different constraints\n",
    "# per scenario.\n",
    "\n",
    "A = np.array([[1, 1, 0, 0, 0, 0],\n",
    "              [1, 0, -1, 0, 0, 0],\n",
    "              [0, 1, 0, -1, 0, 0],\n",
    "              [1, 0, 0, 0, -1, 0],\n",
    "              [0, 1, 0, 0, 0, -1]], dtype=float)\n",
    "b = np.array([1, 0, 0, 0, 0], dtype=float)\n",
    "\n",
    "print('c: {}\\nA:\\n{}\\nb: {}'.format(value, A, b))\n",
    "\n",
    "cost = -value\n",
    "linprog(c=cost, A_eq=A, b_eq=b)"
   ]
  },
  {
   "cell_type": "code",
   "execution_count": null,
   "metadata": {},
   "outputs": [],
   "source": []
  }
 ],
 "metadata": {
  "kernelspec": {
   "display_name": "Python 3",
   "language": "python",
   "name": "python3"
  },
  "language_info": {
   "codemirror_mode": {
    "name": "ipython",
    "version": 3
   },
   "file_extension": ".py",
   "mimetype": "text/x-python",
   "name": "python",
   "nbconvert_exporter": "python",
   "pygments_lexer": "ipython3",
   "version": "3.7.3"
  }
 },
 "nbformat": 4,
 "nbformat_minor": 2
}
